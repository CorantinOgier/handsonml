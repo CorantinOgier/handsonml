{
 "cells": [
  {
   "cell_type": "markdown",
   "metadata": {},
   "source": [
    "# Exportation des 100 plus grosses erreurs\n",
    "\n",
    "On veut exporter dans un tableau excel, nos 100 plus grosses erreurs afin de pouvoir analyser nos données plus simplement.\n"
   ]
  },
  {
   "cell_type": "code",
   "execution_count": 26,
   "metadata": {},
   "outputs": [
    {
     "data": {
      "text/html": [
       "<div>\n",
       "<style scoped>\n",
       "    .dataframe tbody tr th:only-of-type {\n",
       "        vertical-align: middle;\n",
       "    }\n",
       "\n",
       "    .dataframe tbody tr th {\n",
       "        vertical-align: top;\n",
       "    }\n",
       "\n",
       "    .dataframe thead th {\n",
       "        text-align: right;\n",
       "    }\n",
       "</style>\n",
       "<table border=\"1\" class=\"dataframe\">\n",
       "  <thead>\n",
       "    <tr style=\"text-align: right;\">\n",
       "      <th></th>\n",
       "      <th>SeriousDlqin2yrs</th>\n",
       "      <th>Prediction</th>\n",
       "      <th>0 Proba</th>\n",
       "      <th>1 Proba</th>\n",
       "      <th>Type_Error</th>\n",
       "    </tr>\n",
       "    <tr>\n",
       "      <th>field1</th>\n",
       "      <th></th>\n",
       "      <th></th>\n",
       "      <th></th>\n",
       "      <th></th>\n",
       "      <th></th>\n",
       "    </tr>\n",
       "  </thead>\n",
       "  <tbody>\n",
       "    <tr>\n",
       "      <td>99622</td>\n",
       "      <td>1</td>\n",
       "      <td>1</td>\n",
       "      <td>0.28041</td>\n",
       "      <td>0.71959</td>\n",
       "      <td></td>\n",
       "    </tr>\n",
       "    <tr>\n",
       "      <td>86498</td>\n",
       "      <td>1</td>\n",
       "      <td>1</td>\n",
       "      <td>0.29142</td>\n",
       "      <td>0.70858</td>\n",
       "      <td></td>\n",
       "    </tr>\n",
       "    <tr>\n",
       "      <td>97370</td>\n",
       "      <td>1</td>\n",
       "      <td>1</td>\n",
       "      <td>0.29166</td>\n",
       "      <td>0.70834</td>\n",
       "      <td></td>\n",
       "    </tr>\n",
       "    <tr>\n",
       "      <td>105591</td>\n",
       "      <td>1</td>\n",
       "      <td>1</td>\n",
       "      <td>0.29307</td>\n",
       "      <td>0.70693</td>\n",
       "      <td></td>\n",
       "    </tr>\n",
       "    <tr>\n",
       "      <td>146045</td>\n",
       "      <td>0</td>\n",
       "      <td>1</td>\n",
       "      <td>0.29596</td>\n",
       "      <td>0.70404</td>\n",
       "      <td></td>\n",
       "    </tr>\n",
       "    <tr>\n",
       "      <td>...</td>\n",
       "      <td>...</td>\n",
       "      <td>...</td>\n",
       "      <td>...</td>\n",
       "      <td>...</td>\n",
       "      <td>...</td>\n",
       "    </tr>\n",
       "    <tr>\n",
       "      <td>6164</td>\n",
       "      <td>0</td>\n",
       "      <td>0</td>\n",
       "      <td>0.99845</td>\n",
       "      <td>0.00156</td>\n",
       "      <td></td>\n",
       "    </tr>\n",
       "    <tr>\n",
       "      <td>29862</td>\n",
       "      <td>0</td>\n",
       "      <td>0</td>\n",
       "      <td>0.99845</td>\n",
       "      <td>0.00156</td>\n",
       "      <td></td>\n",
       "    </tr>\n",
       "    <tr>\n",
       "      <td>50195</td>\n",
       "      <td>0</td>\n",
       "      <td>0</td>\n",
       "      <td>0.99845</td>\n",
       "      <td>0.00156</td>\n",
       "      <td></td>\n",
       "    </tr>\n",
       "    <tr>\n",
       "      <td>40771</td>\n",
       "      <td>0</td>\n",
       "      <td>0</td>\n",
       "      <td>0.99852</td>\n",
       "      <td>0.00148</td>\n",
       "      <td></td>\n",
       "    </tr>\n",
       "    <tr>\n",
       "      <td>45144</td>\n",
       "      <td>0</td>\n",
       "      <td>0</td>\n",
       "      <td>0.99852</td>\n",
       "      <td>0.00148</td>\n",
       "      <td></td>\n",
       "    </tr>\n",
       "  </tbody>\n",
       "</table>\n",
       "<p>30000 rows × 5 columns</p>\n",
       "</div>"
      ],
      "text/plain": [
       "        SeriousDlqin2yrs  Prediction  0 Proba  1 Proba Type_Error\n",
       "field1                                                           \n",
       "99622                  1           1  0.28041  0.71959           \n",
       "86498                  1           1  0.29142  0.70858           \n",
       "97370                  1           1  0.29166  0.70834           \n",
       "105591                 1           1  0.29307  0.70693           \n",
       "146045                 0           1  0.29596  0.70404           \n",
       "...                  ...         ...      ...      ...        ...\n",
       "6164                   0           0  0.99845  0.00156           \n",
       "29862                  0           0  0.99845  0.00156           \n",
       "50195                  0           0  0.99845  0.00156           \n",
       "40771                  0           0  0.99852  0.00148           \n",
       "45144                  0           0  0.99852  0.00148           \n",
       "\n",
       "[30000 rows x 5 columns]"
      ]
     },
     "execution_count": 26,
     "metadata": {},
     "output_type": "execute_result"
    }
   ],
   "source": [
    "from bigml.api import BigML\n",
    "import numpy as np\n",
    "from pandas import DataFrame, read_csv\n",
    "\n",
    "prediction=read_csv('./BatchPrediction/val_predictions.csv', index_col=0)\n",
    "#on change le nom de la colonne SeriousDlqin2yrs, on peut aussi le faire avec .rename\n",
    "\n",
    "prediction.insert(4,\"Type_Error\",\"\")\n",
    "prediction"
   ]
  },
  {
   "cell_type": "code",
   "execution_count": 29,
   "metadata": {},
   "outputs": [],
   "source": [
    "def fctError(row):\n",
    "    if row['SeriousDlqin2yrs']==1 and row['Prediction']==0:\n",
    "        row['Type_Error']='FN'\n",
    "    if row['SeriousDlqin2yrs']==0 and row['Prediction']==1:\n",
    "        row['Type_Error']='FP'\n",
    "    if row['SeriousDlqin2yrs']==1 and row['Prediction']==1:\n",
    "        row['Type_Error']='TP'\n",
    "    if row['SeriousDlqin2yrs']==0 and row['Prediction']==0:\n",
    "        row['Type_Error']='TN'\n",
    "    return row"
   ]
  },
  {
   "cell_type": "code",
   "execution_count": 30,
   "metadata": {},
   "outputs": [],
   "source": [
    "prediction['Type_Error']=prediction[['Type_Error','SeriousDlqin2yrs','Prediction']].apply(fctError, axis=1)"
   ]
  },
  {
   "cell_type": "markdown",
   "metadata": {},
   "source": [
    "On peut dénombrer les FN, FP, TP et TN grâce à la fonction .value_counts()"
   ]
  },
  {
   "cell_type": "code",
   "execution_count": 32,
   "metadata": {},
   "outputs": [
    {
     "name": "stdout",
     "output_type": "stream",
     "text": [
      "TN    27748\n",
      "FN     1613\n",
      "TP      387\n",
      "FP      252\n",
      "Name: Type_Error, dtype: int64\n"
     ]
    }
   ],
   "source": [
    "number_error = prediction['Type_Error'].value_counts()\n",
    "print(number_error)"
   ]
  },
  {
   "cell_type": "markdown",
   "metadata": {},
   "source": [
    "On tri selon les colonnes 'Type_Error' et '0 Proba' de manière à avoir les FN en premier et décroissante selon 0 Proba, afin de pouvoir sélectionner et enregistrer en csv les 100 plus grosses erreurs."
   ]
  },
  {
   "cell_type": "code",
   "execution_count": 47,
   "metadata": {},
   "outputs": [],
   "source": [
    "sorted_prediction = prediction.sort_values(by=['Type_Error', '0 Proba'], ascending=[\"FN\", False])"
   ]
  },
  {
   "cell_type": "code",
   "execution_count": 50,
   "metadata": {},
   "outputs": [],
   "source": [
    "sorted_prediction[0:99].to_csv('top100_fn_error.csv')"
   ]
  }
 ],
 "metadata": {
  "kernelspec": {
   "display_name": "Python 3",
   "language": "python",
   "name": "python3"
  },
  "language_info": {
   "codemirror_mode": {
    "name": "ipython",
    "version": 3
   },
   "file_extension": ".py",
   "mimetype": "text/x-python",
   "name": "python",
   "nbconvert_exporter": "python",
   "pygments_lexer": "ipython3",
   "version": "3.7.3"
  }
 },
 "nbformat": 4,
 "nbformat_minor": 2
}
